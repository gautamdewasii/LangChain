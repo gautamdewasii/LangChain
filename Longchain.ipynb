{
 "cells": [
  {
   "cell_type": "code",
   "execution_count": 1,
   "id": "07ae2c77-2591-40ea-b281-92d7294470b2",
   "metadata": {},
   "outputs": [],
   "source": [
    "# for connecting langchain with OpenAI API using our private key\n",
    "import os"
   ]
  },
  {
   "cell_type": "code",
   "execution_count": 2,
   "id": "b0484d27-82e4-4476-94bc-1b7041a3296d",
   "metadata": {},
   "outputs": [],
   "source": [
    "os.environ['OPENAI_API_KEY']=\"enter your key\""
   ]
  },
  {
   "cell_type": "markdown",
   "id": "19e3105b-ba53-49af-bc9a-e06a0b75cb61",
   "metadata": {},
   "source": [
    "#### Using LangChain framework along with OpenAI API"
   ]
  },
  {
   "cell_type": "code",
   "execution_count": 3,
   "id": "e2a4c2a0-16d4-45a1-bd37-f96d2520963b",
   "metadata": {},
   "outputs": [],
   "source": [
    "# selecting OpenAi api out of multiple api's\n",
    "from langchain.llms import OpenAI"
   ]
  },
  {
   "cell_type": "code",
   "execution_count": 4,
   "id": "4f665b2d-af7b-4740-8552-75f4cea33ec7",
   "metadata": {},
   "outputs": [
    {
     "name": "stdout",
     "output_type": "stream",
     "text": [
      "\n",
      "\n",
      "\"TechFix Solutions\"\n"
     ]
    }
   ],
   "source": [
    "# temperature defines how much risk will llm will take to generate the output.\n",
    "# ex '0' mean's no risk or no creativity\n",
    "# ex '1' mean's high risk and high creativity\n",
    "llm=OpenAI(temperature=0.6)\n",
    "\n",
    "#passing prompt to the GPT llm using OpenAI API\n",
    "prompt=llm(\"Suggest a computer hardware reparing shop name in India.\")\n",
    "print(prompt)"
   ]
  },
  {
   "cell_type": "markdown",
   "id": "22b554fd-9e97-4721-9f90-725a44e11c11",
   "metadata": {},
   "source": [
    "#### Using input variables in Prompt :- "
   ]
  },
  {
   "cell_type": "code",
   "execution_count": 5,
   "id": "0e1d443f-588c-4edc-b2eb-d7f600f3ced0",
   "metadata": {},
   "outputs": [
    {
     "data": {
      "text/plain": [
       "'I want to open a computer hardware repairing shop in india . Suggest a fency name for this.'"
      ]
     },
     "execution_count": 5,
     "metadata": {},
     "output_type": "execute_result"
    }
   ],
   "source": [
    "# PromptTemplate , for defining input variable for prompt\n",
    "from langchain.prompts import PromptTemplate\n",
    "\n",
    "prompt_template_name=PromptTemplate(\n",
    "    # country is input variable, we can define multiple variables here.\n",
    "    input_variables=['country'],\n",
    "    template = \"I want to open a computer hardware repairing shop in {country} . Suggest a fency name for this.\"\n",
    ")\n",
    "# formate() helps to replace that input_variables string.\n",
    "prompt_template_name.format(country=\"india\")"
   ]
  },
  {
   "cell_type": "markdown",
   "id": "0a680234-e5dc-4cf2-8205-ee2993c033b4",
   "metadata": {},
   "source": [
    "#### LLMChain uses to take userinput and passes to promptTemplate and then call's LLM"
   ]
  },
  {
   "cell_type": "code",
   "execution_count": 6,
   "id": "6fa2b369-e9fb-41d4-b4b8-cce4223838f1",
   "metadata": {},
   "outputs": [
    {
     "name": "stdout",
     "output_type": "stream",
     "text": [
      "\"TechFix Solutions\"\n"
     ]
    }
   ],
   "source": [
    "from langchain.chains import LLMChain\n",
    "\n",
    "# 'llm' is model which we uses , in this case we uses OpenAI's GPT model\n",
    "# 'prompt' , sends to OpenAI's llm\n",
    "chain= LLMChain(llm=llm,prompt=prompt_template_name)\n",
    "# inside run() is the value of input_variable for prompt\n",
    "# strip() used to remove starting and ending spaces of the output .\n",
    "shop_name=chain.run(\"India\").strip()\n",
    "print(shop_name)"
   ]
  },
  {
   "cell_type": "code",
   "execution_count": 7,
   "id": "670a25ea-a21b-4c57-877d-03f6d35b3547",
   "metadata": {},
   "outputs": [
    {
     "data": {
      "text/plain": [
       "'1. Computer Repair and Troubleshooting\\n2. Data Recovery and Backup Services\\n3. Network Setup and Maintenance\\n4. Virus and Malware Removal\\n5. Custom Built Computers and Upgrades'"
      ]
     },
     "execution_count": 7,
     "metadata": {},
     "output_type": "execute_result"
    }
   ],
   "source": [
    "# defining the prompt for generating services related to our computer shop\n",
    "prompt_template_items=PromptTemplate(\n",
    "    input_variables=['shop_name'],\n",
    "    template = \"Suggest some top 5 services menu for my shop {shop_name}. Return it as comma seprated list. \"\n",
    ")\n",
    "\n",
    "chain_items= LLMChain(llm=llm,prompt=prompt_template_items)\n",
    "# here, 'shop_name' is the output of last prompt.\n",
    "shop_items=chain_items.run(shop_name).strip()\n",
    "shop_items"
   ]
  },
  {
   "cell_type": "markdown",
   "id": "553f952a-b7b3-45e3-bb22-93ab7d002bc4",
   "metadata": {},
   "source": [
    "#### SimpleSequentialChain used to combined multiple prompt and it takes 1 input and generate only 1 output"
   ]
  },
  {
   "cell_type": "code",
   "execution_count": 8,
   "id": "9f07bb83-0ecb-48df-b3a3-762ddce1e2f0",
   "metadata": {},
   "outputs": [],
   "source": [
    "from langchain.chains import SimpleSequentialChain"
   ]
  },
  {
   "cell_type": "code",
   "execution_count": 9,
   "id": "efae127d-ff20-44b4-a67a-b7dda81f09e9",
   "metadata": {},
   "outputs": [
    {
     "data": {
      "text/plain": [
       "'1. Computer Repair and Maintenance\\n2. Data Recovery and Backup\\n3. Network Setup and Security\\n4. Website Design and Development\\n5. IT Consulting and Training'"
      ]
     },
     "execution_count": 9,
     "metadata": {},
     "output_type": "execute_result"
    }
   ],
   "source": [
    "# 'chain' is the LLMChian for ganerating shop name \n",
    "# 'chain_items' is the LLMChain for ganerating shop's top 5 services \n",
    "chain=SimpleSequentialChain(chains=[chain,chain_items])\n",
    "# it will run these two chains sequentially\n",
    "chain.run(\"India\").strip()"
   ]
  },
  {
   "cell_type": "markdown",
   "id": "330d4ca7-3527-4f68-9cb0-edb87c62a3bf",
   "metadata": {},
   "source": [
    "NOTE:- it did not return \"shop name\" ,\n",
    "becuase in SimpleSequentialChain , it generate only 1 output."
   ]
  },
  {
   "cell_type": "markdown",
   "id": "42afcfb9-b0ad-4d49-b63b-81918490528d",
   "metadata": {},
   "source": [
    "#### SequentialChain , for multiple input and ganerating multiple outputs"
   ]
  },
  {
   "cell_type": "code",
   "execution_count": 10,
   "id": "bda0c2be-7580-4961-a9dd-16774f81f122",
   "metadata": {},
   "outputs": [],
   "source": [
    "# prompt for shop name \n",
    "prompt_template_name=PromptTemplate(\n",
    "    # country is input variable, we can define multiple variables here.\n",
    "    input_variables=['country'],\n",
    "    template = \"I want to open a computer hardware repairing shop in {country} . Suggest a fency name for this.\"\n",
    ")\n",
    "\n",
    "#' output_key ' - it will also shows as an output \n",
    "chain= LLMChain(llm=llm,prompt=prompt_template_name,output_key=\"shop_name\")\n",
    "\n",
    "prompt_template_items=PromptTemplate(\n",
    "    # country is input variable, we can define multiple variables here.\n",
    "    input_variables=['shop_name'],\n",
    "    template = \"Suggest some services menu for my shop {shop_name}. Return it as comma seprated list. \"\n",
    ")\n",
    "\n",
    "chain_items= LLMChain(llm=llm,prompt=prompt_template_items,output_key=\"services\")"
   ]
  },
  {
   "cell_type": "code",
   "execution_count": 11,
   "id": "674e9a76-d522-4e97-beb9-d230b41d3bf4",
   "metadata": {},
   "outputs": [
    {
     "name": "stdout",
     "output_type": "stream",
     "text": [
      "{'country': 'india', 'shop_name': '\\n\\n\"TechFix Hub\"', 'services': '\\n\\n1. Computer Repair and Maintenance\\n2. Laptop Screen Replacement\\n3. Virus and Malware Removal\\n4. Data Recovery and Backup\\n5. Software Installation and Troubleshooting\\n6. Hardware Upgrades and Optimization\\n7. Mobile Device Repair (phones, tablets, etc.)\\n8. Network Setup and Configuration\\n9. Printer and Scanner Repair\\n10. Smart Home Device Setup and Support\\n11. Gaming Console Repair\\n12. Cloud Storage and File Sharing Solutions\\n13. On-site IT Support for Businesses\\n14. Custom Computer Building\\n15. Remote Technical Assistance\\n16. IT Consultation and Planning\\n17. Digital Security and Privacy Services\\n18. Website Design and Development\\n19. Social Media Management and Marketing\\n20. Virtual Private Network (VPN) Setup.'}\n"
     ]
    }
   ],
   "source": [
    "from langchain.chains import SequentialChain\n",
    "\n",
    "chain=SequentialChain(\n",
    "    chains=[chain,chain_items],\n",
    "    # initial input as an country name\n",
    "    input_variables=['country'],\n",
    "    # output will display on the output cell\n",
    "    output_variables=['shop_name','services']\n",
    ")\n",
    "\n",
    "# note:- india is the input value for 'country' input variable\n",
    "output=chain({'country':'india'})\n",
    "print(output)"
   ]
  },
  {
   "cell_type": "code",
   "execution_count": null,
   "id": "e5b0de5b-208a-486b-859a-fc1cb443a80b",
   "metadata": {},
   "outputs": [],
   "source": []
  },
  {
   "cell_type": "code",
   "execution_count": null,
   "id": "9b3561dc-a0da-41e8-8074-6260d486fe4b",
   "metadata": {},
   "outputs": [],
   "source": []
  }
 ],
 "metadata": {
  "kernelspec": {
   "display_name": "Python 3 (ipykernel)",
   "language": "python",
   "name": "python3"
  },
  "language_info": {
   "codemirror_mode": {
    "name": "ipython",
    "version": 3
   },
   "file_extension": ".py",
   "mimetype": "text/x-python",
   "name": "python",
   "nbconvert_exporter": "python",
   "pygments_lexer": "ipython3",
   "version": "3.11.2"
  }
 },
 "nbformat": 4,
 "nbformat_minor": 5
}
